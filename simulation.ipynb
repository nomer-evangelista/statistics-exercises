{
 "cells": [
  {
   "cell_type": "code",
   "execution_count": 1,
   "id": "fdb2969a",
   "metadata": {
    "tags": []
   },
   "outputs": [],
   "source": [
    "import matplotlib.pyplot as plt\n",
    "# numpy for vectorized array operations\n",
    "import numpy as np\n",
    "# pandas for proper tabular manipulation\n",
    "import pandas as pd\n",
    "# scipy stats for our subversions\n",
    "from scipy import stats"
   ]
  },
  {
   "cell_type": "code",
   "execution_count": 14,
   "id": "461b444c",
   "metadata": {
    "tags": []
   },
   "outputs": [],
   "source": [
    "# 1. How likely is it that you roll doubles when rolling two dice?\n",
    "n_simulations = 100_000\n",
    "n_trials = 2\n",
    "outcomes = [1, 2, 3, 4, 5, 6]"
   ]
  },
  {
   "cell_type": "code",
   "execution_count": 15,
   "id": "3677f6c8",
   "metadata": {
    "tags": []
   },
   "outputs": [],
   "source": [
    "double_roll = np.random.choice(outcomes, (n_simulations, n_trials))"
   ]
  },
  {
   "cell_type": "code",
   "execution_count": 16,
   "id": "f7b3498c-cec7-4739-9604-b966201e1e3b",
   "metadata": {
    "tags": []
   },
   "outputs": [
    {
     "data": {
      "text/plain": [
       "array([[6, 5, 3, ..., 6, 3, 2],\n",
       "       [4, 1, 1, ..., 2, 5, 3]])"
      ]
     },
     "execution_count": 16,
     "metadata": {},
     "output_type": "execute_result"
    }
   ],
   "source": [
    "double_roll.T"
   ]
  },
  {
   "cell_type": "code",
   "execution_count": 17,
   "id": "ffda7715-d631-4518-bb9a-59a6f2ecf2c1",
   "metadata": {
    "tags": []
   },
   "outputs": [
    {
     "data": {
      "text/plain": [
       "array([6, 5, 3, ..., 6, 3, 2])"
      ]
     },
     "execution_count": 17,
     "metadata": {},
     "output_type": "execute_result"
    }
   ],
   "source": [
    "double_roll[:,0]"
   ]
  },
  {
   "cell_type": "code",
   "execution_count": 18,
   "id": "de80a4a0-e703-44d8-b9d6-0c67d32f1586",
   "metadata": {
    "tags": []
   },
   "outputs": [
    {
     "data": {
      "text/plain": [
       "array([4, 1, 1, ..., 2, 5, 3])"
      ]
     },
     "execution_count": 18,
     "metadata": {},
     "output_type": "execute_result"
    }
   ],
   "source": [
    "double_roll[:,1]"
   ]
  },
  {
   "cell_type": "code",
   "execution_count": 19,
   "id": "ffae2d10",
   "metadata": {
    "tags": []
   },
   "outputs": [
    {
     "data": {
      "text/plain": [
       "array([False, False, False, ..., False, False, False])"
      ]
     },
     "execution_count": 19,
     "metadata": {},
     "output_type": "execute_result"
    }
   ],
   "source": [
    "new_double_roll = double_roll[:,0] == double_roll[:,1]\n",
    "new_double_roll"
   ]
  },
  {
   "cell_type": "code",
   "execution_count": 20,
   "id": "a47cdf38-2f8a-417d-956a-d50f3c1551d6",
   "metadata": {
    "tags": []
   },
   "outputs": [
    {
     "data": {
      "text/plain": [
       "16808"
      ]
     },
     "execution_count": 20,
     "metadata": {},
     "output_type": "execute_result"
    }
   ],
   "source": [
    "new_double_roll.sum()"
   ]
  },
  {
   "cell_type": "code",
   "execution_count": 22,
   "id": "c318bccc-c53f-4dca-a8ec-4f29fc7ca0fa",
   "metadata": {
    "tags": []
   },
   "outputs": [
    {
     "data": {
      "text/plain": [
       "100000"
      ]
     },
     "execution_count": 22,
     "metadata": {},
     "output_type": "execute_result"
    }
   ],
   "source": [
    "len(new_double_roll)"
   ]
  },
  {
   "cell_type": "code",
   "execution_count": 25,
   "id": "33fda5bb-dca9-41bf-ad2d-b79068c59bed",
   "metadata": {
    "tags": []
   },
   "outputs": [
    {
     "data": {
      "text/plain": [
       "0.16808"
      ]
     },
     "execution_count": 25,
     "metadata": {},
     "output_type": "execute_result"
    }
   ],
   "source": [
    "new_double_roll.mean()"
   ]
  },
  {
   "cell_type": "code",
   "execution_count": 26,
   "id": "e78d9003",
   "metadata": {
    "tags": []
   },
   "outputs": [],
   "source": [
    "# 2. If you flip 8 coins, what is the probability of getting exactly 3 heads? \n",
    "# What is the probability of getting more than 3 heads?\n",
    "outcomes = ['H', 'T']\n",
    "# n_simulations = 10_000\n",
    "n_trials = 8"
   ]
  },
  {
   "cell_type": "code",
   "execution_count": 27,
   "id": "a7929012",
   "metadata": {
    "tags": []
   },
   "outputs": [],
   "source": [
    "three_heads = np.random.choice(outcomes, (n_simulations, n_trials))"
   ]
  },
  {
   "cell_type": "code",
   "execution_count": 28,
   "id": "419eab2c",
   "metadata": {
    "tags": []
   },
   "outputs": [
    {
     "data": {
      "text/plain": [
       "array([['H', 'H', 'T', 'T', 'T', 'T', 'T', 'T'],\n",
       "       ['H', 'H', 'H', 'H', 'T', 'T', 'T', 'T'],\n",
       "       ['T', 'H', 'T', 'H', 'H', 'T', 'H', 'T'],\n",
       "       ['H', 'H', 'T', 'H', 'H', 'H', 'T', 'H'],\n",
       "       ['H', 'H', 'H', 'H', 'T', 'T', 'H', 'H']], dtype='<U1')"
      ]
     },
     "execution_count": 28,
     "metadata": {},
     "output_type": "execute_result"
    }
   ],
   "source": [
    "three_heads[:5]"
   ]
  },
  {
   "cell_type": "code",
   "execution_count": 31,
   "id": "4bc23479",
   "metadata": {
    "tags": []
   },
   "outputs": [
    {
     "data": {
      "text/plain": [
       "array([False, False, False, ..., False,  True,  True])"
      ]
     },
     "execution_count": 31,
     "metadata": {},
     "output_type": "execute_result"
    }
   ],
   "source": [
    "three_head_flips = ((three_heads == 'H').sum(axis=1) == 3)\n",
    "three_head_flips"
   ]
  },
  {
   "cell_type": "code",
   "execution_count": 32,
   "id": "fedfabb1-6bcd-4e71-be7f-e5b56f3ed08b",
   "metadata": {
    "tags": []
   },
   "outputs": [
    {
     "data": {
      "text/plain": [
       "21950"
      ]
     },
     "execution_count": 32,
     "metadata": {},
     "output_type": "execute_result"
    }
   ],
   "source": [
    "three_head_flips.sum()"
   ]
  },
  {
   "cell_type": "code",
   "execution_count": 188,
   "id": "677a3ca5",
   "metadata": {
    "tags": []
   },
   "outputs": [
    {
     "data": {
      "text/plain": [
       "0.218"
      ]
     },
     "execution_count": 188,
     "metadata": {},
     "output_type": "execute_result"
    }
   ],
   "source": [
    "((three_heads == 'H').sum(axis=1) == 3).sum() / len(three_heads)"
   ]
  },
  {
   "cell_type": "code",
   "execution_count": 64,
   "id": "c7781266-6d11-46d8-9e3f-bec53b90ddec",
   "metadata": {
    "tags": []
   },
   "outputs": [
    {
     "data": {
      "text/plain": [
       "0.2195"
      ]
     },
     "execution_count": 64,
     "metadata": {},
     "output_type": "execute_result"
    }
   ],
   "source": [
    "\n",
    "((three_heads == 'H').sum(axis=1) == 3).mean()"
   ]
  },
  {
   "cell_type": "code",
   "execution_count": 65,
   "id": "63729f8c-5c16-4b27-964a-97a42550af77",
   "metadata": {
    "tags": []
   },
   "outputs": [
    {
     "data": {
      "text/plain": [
       "0.2195"
      ]
     },
     "execution_count": 65,
     "metadata": {},
     "output_type": "execute_result"
    }
   ],
   "source": [
    "# another way\n",
    "three_head_flips.mean()"
   ]
  },
  {
   "cell_type": "code",
   "execution_count": 36,
   "id": "9924aef4-ece1-4897-b2e6-6efbaceac199",
   "metadata": {
    "tags": []
   },
   "outputs": [
    {
     "data": {
      "text/plain": [
       "array([2, 4, 4, ..., 4, 3, 3])"
      ]
     },
     "execution_count": 36,
     "metadata": {},
     "output_type": "execute_result"
    }
   ],
   "source": [
    "other_way_three_heads = (three_heads == 'H').sum(axis=1)\n",
    "other_way_three_heads"
   ]
  },
  {
   "cell_type": "code",
   "execution_count": 38,
   "id": "f66c6110-9c4b-4c70-8424-62d00d6902f1",
   "metadata": {
    "tags": []
   },
   "outputs": [
    {
     "data": {
      "text/plain": [
       "0.2195"
      ]
     },
     "execution_count": 38,
     "metadata": {},
     "output_type": "execute_result"
    }
   ],
   "source": [
    "(other_way_three_heads == 3).mean()"
   ]
  },
  {
   "cell_type": "code",
   "execution_count": 189,
   "id": "5a1f9776",
   "metadata": {
    "tags": []
   },
   "outputs": [],
   "source": [
    "# What is the probability of getting more than 3 heads?\n",
    "more_than_three_heads = np.random.choice(outcomes, (n_simulations, n_trials))"
   ]
  },
  {
   "cell_type": "code",
   "execution_count": 190,
   "id": "98cdf747",
   "metadata": {
    "tags": []
   },
   "outputs": [
    {
     "data": {
      "text/plain": [
       "6355"
      ]
     },
     "execution_count": 190,
     "metadata": {},
     "output_type": "execute_result"
    }
   ],
   "source": [
    "((more_than_three_heads == 'H').sum(axis=1) > 3).sum()"
   ]
  },
  {
   "cell_type": "code",
   "execution_count": 191,
   "id": "adde48e1",
   "metadata": {
    "tags": []
   },
   "outputs": [
    {
     "data": {
      "text/plain": [
       "0.6355"
      ]
     },
     "execution_count": 191,
     "metadata": {},
     "output_type": "execute_result"
    }
   ],
   "source": [
    "((more_than_three_heads == 'H').sum(axis=1) > 3).sum() / len(more_than_three_heads)"
   ]
  },
  {
   "cell_type": "code",
   "execution_count": 192,
   "id": "cce0cdb9-d15d-4363-a0b4-647d2dde59a1",
   "metadata": {
    "tags": []
   },
   "outputs": [
    {
     "data": {
      "text/plain": [
       "0.6355"
      ]
     },
     "execution_count": 192,
     "metadata": {},
     "output_type": "execute_result"
    }
   ],
   "source": [
    "((more_than_three_heads == 'H').sum(axis=1) > 3).mean()"
   ]
  },
  {
   "cell_type": "code",
   "execution_count": 66,
   "id": "910a699c-778a-4ab8-9b2b-998eaefe0a38",
   "metadata": {
    "tags": []
   },
   "outputs": [
    {
     "data": {
      "text/plain": [
       "0.63554"
      ]
     },
     "execution_count": 66,
     "metadata": {},
     "output_type": "execute_result"
    }
   ],
   "source": [
    "# another way\n",
    "(other_way_three_heads > 3).mean()"
   ]
  },
  {
   "cell_type": "code",
   "execution_count": 43,
   "id": "9c7aabb2",
   "metadata": {
    "tags": []
   },
   "outputs": [],
   "source": [
    "# 3. There are approximitely 3 web development cohorts for every 1 data science cohort at Codeup. \n",
    "# Assuming that Codeup randomly selects an alumni to put on a billboard, \n",
    "# what are the odds that the two billboards I drive past both have data science students on them?\n",
    "n_percentage = 0.25\n",
    "n_select = 2\n",
    "# n_simulation = 10_000"
   ]
  },
  {
   "cell_type": "code",
   "execution_count": 50,
   "id": "33f77769",
   "metadata": {
    "tags": []
   },
   "outputs": [],
   "source": [
    "data_science_cohort = np.random.random((n_simulations, n_select))"
   ]
  },
  {
   "cell_type": "code",
   "execution_count": 51,
   "id": "69d8dbe2",
   "metadata": {
    "tags": []
   },
   "outputs": [
    {
     "data": {
      "text/plain": [
       "array([[0.89090574, 0.67373999],\n",
       "       [0.66089249, 0.00781302],\n",
       "       [0.20438636, 0.06617435]])"
      ]
     },
     "execution_count": 51,
     "metadata": {},
     "output_type": "execute_result"
    }
   ],
   "source": [
    "data_science_cohort[:3]"
   ]
  },
  {
   "cell_type": "code",
   "execution_count": 52,
   "id": "1919605e",
   "metadata": {
    "tags": []
   },
   "outputs": [],
   "source": [
    "data_science_selected = (data_science_cohort < n_percentage)"
   ]
  },
  {
   "cell_type": "code",
   "execution_count": 53,
   "id": "56fb72be",
   "metadata": {
    "tags": []
   },
   "outputs": [
    {
     "data": {
      "text/plain": [
       "array([[False, False],\n",
       "       [False,  True],\n",
       "       [ True,  True]])"
      ]
     },
     "execution_count": 53,
     "metadata": {},
     "output_type": "execute_result"
    }
   ],
   "source": [
    "data_science_selected[:3]"
   ]
  },
  {
   "cell_type": "code",
   "execution_count": 54,
   "id": "3d769274",
   "metadata": {
    "tags": []
   },
   "outputs": [
    {
     "data": {
      "text/plain": [
       "0.06111"
      ]
     },
     "execution_count": 54,
     "metadata": {},
     "output_type": "execute_result"
    }
   ],
   "source": [
    "(data_science_selected.sum(axis=1) == 2).mean()"
   ]
  },
  {
   "cell_type": "code",
   "execution_count": 68,
   "id": "d006ad31-59f2-4d89-b5eb-aa84e19da9cf",
   "metadata": {
    "tags": []
   },
   "outputs": [
    {
     "data": {
      "text/plain": [
       "array([['ds', 'ds'],\n",
       "       ['wd', 'ds'],\n",
       "       ['wd', 'wd'],\n",
       "       ...,\n",
       "       ['ds', 'wd'],\n",
       "       ['wd', 'wd'],\n",
       "       ['wd', 'wd']], dtype='<U2')"
      ]
     },
     "execution_count": 68,
     "metadata": {},
     "output_type": "execute_result"
    }
   ],
   "source": [
    "# another way\n",
    "outcomes = ['ds', 'wd', 'wd', 'wd']\n",
    "another_billboards = np.random.choice(outcomes, (n_simulations, n_select))\n",
    "another_billboards"
   ]
  },
  {
   "cell_type": "code",
   "execution_count": 57,
   "id": "92b26add-7bc5-4ef7-8cf7-cc5598a05358",
   "metadata": {
    "tags": []
   },
   "outputs": [
    {
     "data": {
      "text/plain": [
       "array([['wd', 'wd'],\n",
       "       ['ds', 'wd'],\n",
       "       ['ds', 'wd'],\n",
       "       ...,\n",
       "       ['wd', 'wd'],\n",
       "       ['wd', 'wd'],\n",
       "       ['wd', 'ds']], dtype='<U2')"
      ]
     },
     "execution_count": 57,
     "metadata": {},
     "output_type": "execute_result"
    }
   ],
   "source": [
    "# another way\n",
    "outcomes = ['ds', 'wd']\n",
    "billboards = np.random.choice(outcomes, (n_simulations, n_select), p=[0.25, 0.75])\n",
    "billboards"
   ]
  },
  {
   "cell_type": "code",
   "execution_count": 61,
   "id": "2b8755f5-e9a3-4348-8757-a0308e414c9e",
   "metadata": {
    "tags": []
   },
   "outputs": [
    {
     "data": {
      "text/plain": [
       "array([0, 1, 1, ..., 0, 0, 1])"
      ]
     },
     "execution_count": 61,
     "metadata": {},
     "output_type": "execute_result"
    }
   ],
   "source": [
    "new_billboards = (billboards == 'ds').sum(axis=1)\n",
    "new_billboards"
   ]
  },
  {
   "cell_type": "code",
   "execution_count": 63,
   "id": "e1f4ca41-678b-4883-962e-f454f3b4ac2c",
   "metadata": {
    "tags": []
   },
   "outputs": [
    {
     "data": {
      "text/plain": [
       "0.06319"
      ]
     },
     "execution_count": 63,
     "metadata": {},
     "output_type": "execute_result"
    }
   ],
   "source": [
    "(new_billboards == 2).mean()"
   ]
  },
  {
   "cell_type": "code",
   "execution_count": null,
   "id": "81d9d36b-95c8-423c-adfb-21cacd7f2129",
   "metadata": {},
   "outputs": [],
   "source": [
    "# 4. Codeup students buy, on average, 3 poptart packages with a standard deviation of 1.5 a day from the snack vending machine. \n",
    "# If on monday the machine is restocked with 17 poptart packages, how likely is it that I will be able to buy some poptarts \n",
    "# on Friday afternoon? (Remember, if you have mean and standard deviation, use the np.random.normal) You'll need to make a \n",
    "# judgement call on how to handle some of your values"
   ]
  },
  {
   "cell_type": "code",
   "execution_count": 69,
   "id": "d9c3b492-24df-4c81-b63b-f290c63f111b",
   "metadata": {
    "tags": []
   },
   "outputs": [],
   "source": [
    "mean = 3\n",
    "sd = 1.5\n",
    "n_days = 5"
   ]
  },
  {
   "cell_type": "code",
   "execution_count": 70,
   "id": "2218ad65-55e9-4e51-a710-fcc1290797e9",
   "metadata": {
    "tags": []
   },
   "outputs": [
    {
     "data": {
      "text/plain": [
       "array([[3.93055973, 2.77730501, 4.78382062, 3.3974185 , 3.01642459],\n",
       "       [1.068082  , 2.47103279, 4.78614053, 1.42559707, 3.14564917],\n",
       "       [5.44124322, 0.72017767, 1.6049281 , 1.39376781, 2.57590005],\n",
       "       ...,\n",
       "       [1.38244748, 2.76771626, 6.17348197, 3.68062317, 3.58827296],\n",
       "       [4.4390653 , 4.1958379 , 3.53093673, 5.73877804, 1.87969396],\n",
       "       [1.39305205, 1.44853021, 2.43064324, 1.11791738, 3.20339081]])"
      ]
     },
     "execution_count": 70,
     "metadata": {},
     "output_type": "execute_result"
    }
   ],
   "source": [
    "poptarts_purchased_daily = np.random.normal(3, 1.5, (n_simulations, n_days))\n",
    "poptarts_purchased_daily"
   ]
  },
  {
   "cell_type": "code",
   "execution_count": 71,
   "id": "df15f3f4-f059-4a3d-9fb1-969b7ef71c33",
   "metadata": {
    "tags": []
   },
   "outputs": [
    {
     "data": {
      "text/plain": [
       "array([17.90552845, 12.89650156, 11.73601685, ..., 17.59254183,\n",
       "       19.78431194,  9.5935337 ])"
      ]
     },
     "execution_count": 71,
     "metadata": {},
     "output_type": "execute_result"
    }
   ],
   "source": [
    "poptarts_purchased_weekly = poptarts_purchased_daily.sum(axis=1)\n",
    "poptarts_purchased_weekly"
   ]
  },
  {
   "cell_type": "code",
   "execution_count": 226,
   "id": "dcb39e7d-8bac-404f-91d8-9eed326b94bf",
   "metadata": {
    "tags": []
   },
   "outputs": [
    {
     "data": {
      "text/plain": [
       "array([ True, False, False, ...,  True,  True, False])"
      ]
     },
     "execution_count": 226,
     "metadata": {},
     "output_type": "execute_result"
    }
   ],
   "source": [
    "(17 - poptarts_purchased_weekly) >= 1"
   ]
  },
  {
   "cell_type": "code",
   "execution_count": 72,
   "id": "e61e6d42-1247-48f1-97a4-911d2fb55b94",
   "metadata": {
    "tags": []
   },
   "outputs": [
    {
     "data": {
      "text/plain": [
       "0.617"
      ]
     },
     "execution_count": 72,
     "metadata": {},
     "output_type": "execute_result"
    }
   ],
   "source": [
    "((17 - poptarts_purchased_weekly) >= 1).mean()"
   ]
  },
  {
   "cell_type": "code",
   "execution_count": 75,
   "id": "6769585f-fdad-47bf-ab0f-fde66002ef9e",
   "metadata": {
    "tags": []
   },
   "outputs": [
    {
     "data": {
      "text/plain": [
       "0.617"
      ]
     },
     "execution_count": 75,
     "metadata": {},
     "output_type": "execute_result"
    }
   ],
   "source": [
    "# another way\n",
    "(poptarts_purchased_weekly < 16).mean()"
   ]
  },
  {
   "cell_type": "code",
   "execution_count": 76,
   "id": "234669c1",
   "metadata": {
    "tags": []
   },
   "outputs": [],
   "source": [
    "# 5. Compare Heights\n",
    "\n",
    "# Men have an average height of 178 cm and standard deviation of 8cm.\n",
    "# Women have a mean of 170, sd = 6cm.\n",
    "# Since you have means and standard deviations, you can use np.random.normal to generate observations.\n",
    "# If a man and woman are chosen at random, what is the likelihood the woman is taller than the man?\n",
    "man_height = 178\n",
    "man_sd = 8\n",
    "\n",
    "woman_height = 170\n",
    "woman_sd = 6"
   ]
  },
  {
   "cell_type": "code",
   "execution_count": 78,
   "id": "1e8f3472",
   "metadata": {
    "tags": []
   },
   "outputs": [
    {
     "data": {
      "text/plain": [
       "array([178.11658034, 194.66589413, 175.45856036, ..., 165.85398067,\n",
       "       171.30444752, 160.6099252 ])"
      ]
     },
     "execution_count": 78,
     "metadata": {},
     "output_type": "execute_result"
    }
   ],
   "source": [
    "man_length = np.random.normal(man_height, man_sd, n_simulations) \n",
    "man_length"
   ]
  },
  {
   "cell_type": "code",
   "execution_count": 80,
   "id": "fab8c6e2",
   "metadata": {
    "tags": []
   },
   "outputs": [
    {
     "data": {
      "text/plain": [
       "array([174.57699562, 170.1049334 , 167.70526292, ..., 159.75670734,\n",
       "       161.23755253, 165.78105075])"
      ]
     },
     "execution_count": 80,
     "metadata": {},
     "output_type": "execute_result"
    }
   ],
   "source": [
    "woman_length = np.random.normal(woman_height, woman_sd, n_simulations)\n",
    "woman_length"
   ]
  },
  {
   "cell_type": "code",
   "execution_count": 81,
   "id": "d629537c",
   "metadata": {
    "tags": []
   },
   "outputs": [
    {
     "data": {
      "text/plain": [
       "0.21229"
      ]
     },
     "execution_count": 81,
     "metadata": {},
     "output_type": "execute_result"
    }
   ],
   "source": [
    "(woman_length > man_length).mean()"
   ]
  },
  {
   "cell_type": "code",
   "execution_count": 83,
   "id": "8a4e5d18",
   "metadata": {
    "tags": []
   },
   "outputs": [],
   "source": [
    "# 6. When installing anaconda on a student's computer, there's a 1 in 250 chance that the download is corrupted \n",
    "# and the installation fails. What are the odds that after having 50 students download anaconda, no one has an \n",
    "# installation issue? 100 students?\n",
    "# What is the probability that we observe an installation issue within the first 150 students that download \n",
    "# anaconda?\n",
    "# How likely is it that 450 students all download anaconda without an issue?\n",
    "\n",
    "# 50 students\n",
    "outcomes = ['p', 'f']\n",
    "probability = [249/250, 1/250]\n",
    "n_students = 50"
   ]
  },
  {
   "cell_type": "code",
   "execution_count": 85,
   "id": "aab35bdb",
   "metadata": {
    "tags": []
   },
   "outputs": [
    {
     "data": {
      "text/plain": [
       "array([['p', 'p', 'p', ..., 'p', 'p', 'p'],\n",
       "       ['p', 'p', 'p', ..., 'p', 'p', 'p'],\n",
       "       ['p', 'p', 'p', ..., 'p', 'p', 'p'],\n",
       "       ...,\n",
       "       ['p', 'p', 'p', ..., 'p', 'p', 'p'],\n",
       "       ['p', 'p', 'p', ..., 'p', 'p', 'p'],\n",
       "       ['p', 'p', 'p', ..., 'p', 'p', 'p']], dtype='<U1')"
      ]
     },
     "execution_count": 85,
     "metadata": {},
     "output_type": "execute_result"
    }
   ],
   "source": [
    "no_corrupt_file = np.random.choice(outcomes, (n_simulations, n_students), p=probability)\n",
    "no_corrupt_file"
   ]
  },
  {
   "cell_type": "code",
   "execution_count": 88,
   "id": "08a49f14-9055-4f2e-8530-5df371b80900",
   "metadata": {
    "tags": []
   },
   "outputs": [
    {
     "data": {
      "text/plain": [
       "array([0, 0, 0, ..., 0, 0, 2])"
      ]
     },
     "execution_count": 88,
     "metadata": {},
     "output_type": "execute_result"
    }
   ],
   "source": [
    "total_fails = (no_corrupt_file == 'f').sum(axis=1)\n",
    "total_fails"
   ]
  },
  {
   "cell_type": "code",
   "execution_count": 90,
   "id": "6b70004d-dcce-4880-9e78-b46fb33d316b",
   "metadata": {
    "tags": []
   },
   "outputs": [
    {
     "data": {
      "text/plain": [
       "0.81871"
      ]
     },
     "execution_count": 90,
     "metadata": {},
     "output_type": "execute_result"
    }
   ],
   "source": [
    "(total_fails == 0).mean()"
   ]
  },
  {
   "cell_type": "code",
   "execution_count": 95,
   "id": "57c7e330",
   "metadata": {
    "tags": []
   },
   "outputs": [
    {
     "data": {
      "text/plain": [
       "0.67078"
      ]
     },
     "execution_count": 95,
     "metadata": {},
     "output_type": "execute_result"
    }
   ],
   "source": [
    "# 100 students?\n",
    "n_students = 100\n",
    "installs = np.random.choice(outcomes, (n_simulations, n_students), p=probability)\n",
    "\n",
    "total_fails = (installs == 'f').sum(axis=1)\n",
    "(total_fails == 0).mean()"
   ]
  },
  {
   "cell_type": "code",
   "execution_count": 96,
   "id": "bb601ac1",
   "metadata": {
    "tags": []
   },
   "outputs": [
    {
     "data": {
      "text/plain": [
       "0.45033"
      ]
     },
     "execution_count": 96,
     "metadata": {},
     "output_type": "execute_result"
    }
   ],
   "source": [
    "# What is the probability that we observe an installation issue within the first 150 students that download anaconda?\n",
    "# 150 students\n",
    "n_students = 150\n",
    "installs = np.random.choice(outcomes, (n_simulations, n_students), p=probability)\n",
    "\n",
    "# update to at least one failure\n",
    "total_fails = (installs == 'f').sum(axis=1)\n",
    "(total_fails > 0).mean()"
   ]
  },
  {
   "cell_type": "code",
   "execution_count": 97,
   "id": "cb54bf54",
   "metadata": {
    "tags": []
   },
   "outputs": [
    {
     "data": {
      "text/plain": [
       "0.1648"
      ]
     },
     "execution_count": 97,
     "metadata": {},
     "output_type": "execute_result"
    }
   ],
   "source": [
    "# How likely is it that 450 students all download anaconda without an issue?\n",
    "# 450 students\n",
    "n_students = 450\n",
    "installs = np.random.choice(outcomes, (n_simulations, n_students), p=probability)\n",
    "\n",
    "# update to no failure\n",
    "total_fails = (installs == 'f').sum(axis=1)\n",
    "(total_fails == 0).mean()"
   ]
  },
  {
   "cell_type": "code",
   "execution_count": 111,
   "id": "93fb93b5-3254-4e87-903b-994a7d5c0fc2",
   "metadata": {
    "tags": []
   },
   "outputs": [],
   "source": [
    "# 7. There's a 70% chance on any given day that there will be at least one food truck at Travis Park. \n",
    "# However, you haven't seen a food truck there in 3 days. How unlikely is this?\n",
    "\n",
    "# How likely is it that a food truck will show up sometime this week?\n",
    "\n",
    "truck_chances = 0.7\n",
    "n_days = 3"
   ]
  },
  {
   "cell_type": "code",
   "execution_count": 112,
   "id": "28ade4e4-6198-485a-95a6-f14c598d89b4",
   "metadata": {
    "tags": []
   },
   "outputs": [
    {
     "data": {
      "text/plain": [
       "array([[0.84032485, 0.09131886, 0.55522139],\n",
       "       [0.95460936, 0.71962397, 0.73948612],\n",
       "       [0.38433545, 0.92492784, 0.72867246],\n",
       "       ...,\n",
       "       [0.32367305, 0.20974638, 0.01968729],\n",
       "       [0.77801062, 0.40740114, 0.16756167],\n",
       "       [0.40715336, 0.81688399, 0.2443765 ]])"
      ]
     },
     "execution_count": 112,
     "metadata": {},
     "output_type": "execute_result"
    }
   ],
   "source": [
    "no_show_truck = np.random.random((n_simulations, n_days))\n",
    "no_show_truck"
   ]
  },
  {
   "cell_type": "code",
   "execution_count": 113,
   "id": "cebe3cdd-2587-4a40-b16c-3158268615ae",
   "metadata": {
    "tags": []
   },
   "outputs": [
    {
     "data": {
      "text/plain": [
       "array([[False,  True,  True],\n",
       "       [False, False, False],\n",
       "       [ True, False, False],\n",
       "       ...,\n",
       "       [ True,  True,  True],\n",
       "       [False,  True,  True],\n",
       "       [ True, False,  True]])"
      ]
     },
     "execution_count": 113,
     "metadata": {},
     "output_type": "execute_result"
    }
   ],
   "source": [
    "new_truck_chances = (no_show_truck < truck_chances)\n",
    "new_truck_chances"
   ]
  },
  {
   "cell_type": "code",
   "execution_count": 114,
   "id": "7c0017ee-e67a-4135-87d0-ed1ddc5d3f8d",
   "metadata": {
    "tags": []
   },
   "outputs": [
    {
     "data": {
      "text/plain": [
       "0.02742"
      ]
     },
     "execution_count": 114,
     "metadata": {},
     "output_type": "execute_result"
    }
   ],
   "source": [
    "# how many times there is no truck show\n",
    "(new_truck_chances.sum(axis=1) == 0).mean()"
   ]
  },
  {
   "cell_type": "code",
   "execution_count": 118,
   "id": "7a855cd7-1e82-4c7d-9f27-8411e37e26fe",
   "metadata": {
    "tags": []
   },
   "outputs": [],
   "source": [
    "# How likely is it that a food truck will show up sometime this week?\n",
    "n_days = 5"
   ]
  },
  {
   "cell_type": "code",
   "execution_count": 119,
   "id": "f3450dd1-edc2-436e-83b8-8ec3b91e8c08",
   "metadata": {
    "tags": []
   },
   "outputs": [
    {
     "data": {
      "text/plain": [
       "array([[0.72602781, 0.01618549, 0.00837105, 0.0963317 , 0.79433765],\n",
       "       [0.64958057, 0.93689054, 0.77678875, 0.65199346, 0.97753424],\n",
       "       [0.96621488, 0.12717625, 0.50455861, 0.02613516, 0.33002077],\n",
       "       ...,\n",
       "       [0.19181892, 0.97824417, 0.37864818, 0.71773422, 0.32132403],\n",
       "       [0.7421283 , 0.56068112, 0.79510681, 0.68306108, 0.49772687],\n",
       "       [0.46624691, 0.57277732, 0.2390975 , 0.65484004, 0.39954227]])"
      ]
     },
     "execution_count": 119,
     "metadata": {},
     "output_type": "execute_result"
    }
   ],
   "source": [
    "no_show_truck = np.random.random((n_simulations, n_days))\n",
    "no_show_truck"
   ]
  },
  {
   "cell_type": "code",
   "execution_count": 122,
   "id": "1f1c347a-5418-4c06-9be8-7fe6b6085b26",
   "metadata": {
    "tags": []
   },
   "outputs": [
    {
     "data": {
      "text/plain": [
       "array([[False,  True,  True,  True, False],\n",
       "       [ True, False, False,  True, False],\n",
       "       [False,  True,  True,  True,  True],\n",
       "       ...,\n",
       "       [ True, False,  True, False,  True],\n",
       "       [False,  True, False,  True,  True],\n",
       "       [ True,  True,  True,  True,  True]])"
      ]
     },
     "execution_count": 122,
     "metadata": {},
     "output_type": "execute_result"
    }
   ],
   "source": [
    "truck_will_show = no_show_truck < truck_chances\n",
    "truck_will_show"
   ]
  },
  {
   "cell_type": "code",
   "execution_count": 126,
   "id": "fea6a75a-2d22-4111-95c9-1a176041aaf5",
   "metadata": {
    "tags": []
   },
   "outputs": [
    {
     "data": {
      "text/plain": [
       "0.99756"
      ]
     },
     "execution_count": 126,
     "metadata": {},
     "output_type": "execute_result"
    }
   ],
   "source": [
    "# chances of food truck will show this week\n",
    "(truck_will_show.sum(axis=1) >= 1).mean()"
   ]
  },
  {
   "cell_type": "code",
   "execution_count": 146,
   "id": "2c5b8c2c-5e11-40e1-a81b-f71d046d9a59",
   "metadata": {
    "tags": []
   },
   "outputs": [],
   "source": [
    "# 8. If 23 people are in the same room, what are the odds that two of them share a birthday? \n",
    "# What if it's 20 people? 40?\n",
    "\n",
    "n_people = 23\n",
    "outcomes = list(range(1, 366))"
   ]
  },
  {
   "cell_type": "code",
   "execution_count": 147,
   "id": "24d5748b-9b67-4bf0-ac05-4a8cc2a6c399",
   "metadata": {
    "tags": []
   },
   "outputs": [
    {
     "data": {
      "text/plain": [
       "array([[  8, 110,   7, ...,  68, 364, 232],\n",
       "       [309, 170, 252, ..., 204, 353, 168],\n",
       "       [185, 239, 347, ...,   9, 259, 180],\n",
       "       ...,\n",
       "       [ 71, 255, 253, ..., 234, 118, 282],\n",
       "       [233, 126, 291, ...,  15, 246, 181],\n",
       "       [152, 164, 224, ..., 337, 129, 119]])"
      ]
     },
     "execution_count": 147,
     "metadata": {},
     "output_type": "execute_result"
    }
   ],
   "source": [
    "birthdays = np.random.choice(outcomes, (n_simulations, n_people))\n",
    "birthdays"
   ]
  },
  {
   "cell_type": "code",
   "execution_count": 148,
   "id": "f04ced12-70f7-4014-b99a-5029866f3f42",
   "metadata": {
    "tags": []
   },
   "outputs": [
    {
     "data": {
      "text/html": [
       "<div>\n",
       "<style scoped>\n",
       "    .dataframe tbody tr th:only-of-type {\n",
       "        vertical-align: middle;\n",
       "    }\n",
       "\n",
       "    .dataframe tbody tr th {\n",
       "        vertical-align: top;\n",
       "    }\n",
       "\n",
       "    .dataframe thead th {\n",
       "        text-align: right;\n",
       "    }\n",
       "</style>\n",
       "<table border=\"1\" class=\"dataframe\">\n",
       "  <thead>\n",
       "    <tr style=\"text-align: right;\">\n",
       "      <th></th>\n",
       "      <th>0</th>\n",
       "      <th>1</th>\n",
       "      <th>2</th>\n",
       "      <th>3</th>\n",
       "      <th>4</th>\n",
       "      <th>5</th>\n",
       "      <th>6</th>\n",
       "      <th>7</th>\n",
       "      <th>8</th>\n",
       "      <th>9</th>\n",
       "      <th>...</th>\n",
       "      <th>13</th>\n",
       "      <th>14</th>\n",
       "      <th>15</th>\n",
       "      <th>16</th>\n",
       "      <th>17</th>\n",
       "      <th>18</th>\n",
       "      <th>19</th>\n",
       "      <th>20</th>\n",
       "      <th>21</th>\n",
       "      <th>22</th>\n",
       "    </tr>\n",
       "  </thead>\n",
       "  <tbody>\n",
       "    <tr>\n",
       "      <th>0</th>\n",
       "      <td>8</td>\n",
       "      <td>110</td>\n",
       "      <td>7</td>\n",
       "      <td>357</td>\n",
       "      <td>36</td>\n",
       "      <td>128</td>\n",
       "      <td>41</td>\n",
       "      <td>256</td>\n",
       "      <td>213</td>\n",
       "      <td>59</td>\n",
       "      <td>...</td>\n",
       "      <td>140</td>\n",
       "      <td>343</td>\n",
       "      <td>161</td>\n",
       "      <td>22</td>\n",
       "      <td>192</td>\n",
       "      <td>242</td>\n",
       "      <td>65</td>\n",
       "      <td>68</td>\n",
       "      <td>364</td>\n",
       "      <td>232</td>\n",
       "    </tr>\n",
       "    <tr>\n",
       "      <th>1</th>\n",
       "      <td>309</td>\n",
       "      <td>170</td>\n",
       "      <td>252</td>\n",
       "      <td>343</td>\n",
       "      <td>101</td>\n",
       "      <td>363</td>\n",
       "      <td>199</td>\n",
       "      <td>121</td>\n",
       "      <td>352</td>\n",
       "      <td>150</td>\n",
       "      <td>...</td>\n",
       "      <td>245</td>\n",
       "      <td>171</td>\n",
       "      <td>56</td>\n",
       "      <td>65</td>\n",
       "      <td>107</td>\n",
       "      <td>143</td>\n",
       "      <td>3</td>\n",
       "      <td>204</td>\n",
       "      <td>353</td>\n",
       "      <td>168</td>\n",
       "    </tr>\n",
       "    <tr>\n",
       "      <th>2</th>\n",
       "      <td>185</td>\n",
       "      <td>239</td>\n",
       "      <td>347</td>\n",
       "      <td>334</td>\n",
       "      <td>123</td>\n",
       "      <td>82</td>\n",
       "      <td>130</td>\n",
       "      <td>144</td>\n",
       "      <td>115</td>\n",
       "      <td>354</td>\n",
       "      <td>...</td>\n",
       "      <td>226</td>\n",
       "      <td>18</td>\n",
       "      <td>260</td>\n",
       "      <td>71</td>\n",
       "      <td>46</td>\n",
       "      <td>209</td>\n",
       "      <td>10</td>\n",
       "      <td>9</td>\n",
       "      <td>259</td>\n",
       "      <td>180</td>\n",
       "    </tr>\n",
       "    <tr>\n",
       "      <th>3</th>\n",
       "      <td>108</td>\n",
       "      <td>336</td>\n",
       "      <td>176</td>\n",
       "      <td>26</td>\n",
       "      <td>330</td>\n",
       "      <td>109</td>\n",
       "      <td>118</td>\n",
       "      <td>311</td>\n",
       "      <td>79</td>\n",
       "      <td>277</td>\n",
       "      <td>...</td>\n",
       "      <td>324</td>\n",
       "      <td>61</td>\n",
       "      <td>261</td>\n",
       "      <td>228</td>\n",
       "      <td>119</td>\n",
       "      <td>113</td>\n",
       "      <td>326</td>\n",
       "      <td>184</td>\n",
       "      <td>336</td>\n",
       "      <td>98</td>\n",
       "    </tr>\n",
       "    <tr>\n",
       "      <th>4</th>\n",
       "      <td>194</td>\n",
       "      <td>329</td>\n",
       "      <td>288</td>\n",
       "      <td>274</td>\n",
       "      <td>326</td>\n",
       "      <td>232</td>\n",
       "      <td>115</td>\n",
       "      <td>116</td>\n",
       "      <td>348</td>\n",
       "      <td>81</td>\n",
       "      <td>...</td>\n",
       "      <td>51</td>\n",
       "      <td>365</td>\n",
       "      <td>347</td>\n",
       "      <td>50</td>\n",
       "      <td>246</td>\n",
       "      <td>242</td>\n",
       "      <td>248</td>\n",
       "      <td>137</td>\n",
       "      <td>91</td>\n",
       "      <td>102</td>\n",
       "    </tr>\n",
       "    <tr>\n",
       "      <th>...</th>\n",
       "      <td>...</td>\n",
       "      <td>...</td>\n",
       "      <td>...</td>\n",
       "      <td>...</td>\n",
       "      <td>...</td>\n",
       "      <td>...</td>\n",
       "      <td>...</td>\n",
       "      <td>...</td>\n",
       "      <td>...</td>\n",
       "      <td>...</td>\n",
       "      <td>...</td>\n",
       "      <td>...</td>\n",
       "      <td>...</td>\n",
       "      <td>...</td>\n",
       "      <td>...</td>\n",
       "      <td>...</td>\n",
       "      <td>...</td>\n",
       "      <td>...</td>\n",
       "      <td>...</td>\n",
       "      <td>...</td>\n",
       "      <td>...</td>\n",
       "    </tr>\n",
       "    <tr>\n",
       "      <th>99995</th>\n",
       "      <td>330</td>\n",
       "      <td>247</td>\n",
       "      <td>162</td>\n",
       "      <td>300</td>\n",
       "      <td>299</td>\n",
       "      <td>253</td>\n",
       "      <td>127</td>\n",
       "      <td>95</td>\n",
       "      <td>237</td>\n",
       "      <td>121</td>\n",
       "      <td>...</td>\n",
       "      <td>364</td>\n",
       "      <td>182</td>\n",
       "      <td>53</td>\n",
       "      <td>278</td>\n",
       "      <td>50</td>\n",
       "      <td>127</td>\n",
       "      <td>196</td>\n",
       "      <td>41</td>\n",
       "      <td>133</td>\n",
       "      <td>285</td>\n",
       "    </tr>\n",
       "    <tr>\n",
       "      <th>99996</th>\n",
       "      <td>197</td>\n",
       "      <td>201</td>\n",
       "      <td>79</td>\n",
       "      <td>311</td>\n",
       "      <td>358</td>\n",
       "      <td>240</td>\n",
       "      <td>292</td>\n",
       "      <td>131</td>\n",
       "      <td>298</td>\n",
       "      <td>117</td>\n",
       "      <td>...</td>\n",
       "      <td>211</td>\n",
       "      <td>149</td>\n",
       "      <td>186</td>\n",
       "      <td>320</td>\n",
       "      <td>316</td>\n",
       "      <td>89</td>\n",
       "      <td>351</td>\n",
       "      <td>360</td>\n",
       "      <td>256</td>\n",
       "      <td>248</td>\n",
       "    </tr>\n",
       "    <tr>\n",
       "      <th>99997</th>\n",
       "      <td>71</td>\n",
       "      <td>255</td>\n",
       "      <td>253</td>\n",
       "      <td>68</td>\n",
       "      <td>225</td>\n",
       "      <td>101</td>\n",
       "      <td>99</td>\n",
       "      <td>11</td>\n",
       "      <td>322</td>\n",
       "      <td>80</td>\n",
       "      <td>...</td>\n",
       "      <td>188</td>\n",
       "      <td>131</td>\n",
       "      <td>306</td>\n",
       "      <td>199</td>\n",
       "      <td>288</td>\n",
       "      <td>238</td>\n",
       "      <td>126</td>\n",
       "      <td>234</td>\n",
       "      <td>118</td>\n",
       "      <td>282</td>\n",
       "    </tr>\n",
       "    <tr>\n",
       "      <th>99998</th>\n",
       "      <td>233</td>\n",
       "      <td>126</td>\n",
       "      <td>291</td>\n",
       "      <td>352</td>\n",
       "      <td>232</td>\n",
       "      <td>71</td>\n",
       "      <td>21</td>\n",
       "      <td>74</td>\n",
       "      <td>240</td>\n",
       "      <td>143</td>\n",
       "      <td>...</td>\n",
       "      <td>250</td>\n",
       "      <td>140</td>\n",
       "      <td>262</td>\n",
       "      <td>58</td>\n",
       "      <td>221</td>\n",
       "      <td>198</td>\n",
       "      <td>249</td>\n",
       "      <td>15</td>\n",
       "      <td>246</td>\n",
       "      <td>181</td>\n",
       "    </tr>\n",
       "    <tr>\n",
       "      <th>99999</th>\n",
       "      <td>152</td>\n",
       "      <td>164</td>\n",
       "      <td>224</td>\n",
       "      <td>252</td>\n",
       "      <td>45</td>\n",
       "      <td>21</td>\n",
       "      <td>338</td>\n",
       "      <td>126</td>\n",
       "      <td>340</td>\n",
       "      <td>340</td>\n",
       "      <td>...</td>\n",
       "      <td>255</td>\n",
       "      <td>154</td>\n",
       "      <td>161</td>\n",
       "      <td>1</td>\n",
       "      <td>310</td>\n",
       "      <td>168</td>\n",
       "      <td>12</td>\n",
       "      <td>337</td>\n",
       "      <td>129</td>\n",
       "      <td>119</td>\n",
       "    </tr>\n",
       "  </tbody>\n",
       "</table>\n",
       "<p>100000 rows × 23 columns</p>\n",
       "</div>"
      ],
      "text/plain": [
       "        0    1    2    3    4    5    6    7    8    9   ...   13   14   15  \\\n",
       "0        8  110    7  357   36  128   41  256  213   59  ...  140  343  161   \n",
       "1      309  170  252  343  101  363  199  121  352  150  ...  245  171   56   \n",
       "2      185  239  347  334  123   82  130  144  115  354  ...  226   18  260   \n",
       "3      108  336  176   26  330  109  118  311   79  277  ...  324   61  261   \n",
       "4      194  329  288  274  326  232  115  116  348   81  ...   51  365  347   \n",
       "...    ...  ...  ...  ...  ...  ...  ...  ...  ...  ...  ...  ...  ...  ...   \n",
       "99995  330  247  162  300  299  253  127   95  237  121  ...  364  182   53   \n",
       "99996  197  201   79  311  358  240  292  131  298  117  ...  211  149  186   \n",
       "99997   71  255  253   68  225  101   99   11  322   80  ...  188  131  306   \n",
       "99998  233  126  291  352  232   71   21   74  240  143  ...  250  140  262   \n",
       "99999  152  164  224  252   45   21  338  126  340  340  ...  255  154  161   \n",
       "\n",
       "        16   17   18   19   20   21   22  \n",
       "0       22  192  242   65   68  364  232  \n",
       "1       65  107  143    3  204  353  168  \n",
       "2       71   46  209   10    9  259  180  \n",
       "3      228  119  113  326  184  336   98  \n",
       "4       50  246  242  248  137   91  102  \n",
       "...    ...  ...  ...  ...  ...  ...  ...  \n",
       "99995  278   50  127  196   41  133  285  \n",
       "99996  320  316   89  351  360  256  248  \n",
       "99997  199  288  238  126  234  118  282  \n",
       "99998   58  221  198  249   15  246  181  \n",
       "99999    1  310  168   12  337  129  119  \n",
       "\n",
       "[100000 rows x 23 columns]"
      ]
     },
     "execution_count": 148,
     "metadata": {},
     "output_type": "execute_result"
    }
   ],
   "source": [
    "birthdays = pd.DataFrame(birthdays)\n",
    "birthdays"
   ]
  },
  {
   "cell_type": "code",
   "execution_count": 149,
   "id": "2eaa7f1f-6f93-468f-b121-b88d457da8a6",
   "metadata": {
    "tags": []
   },
   "outputs": [
    {
     "data": {
      "text/plain": [
       "0        23\n",
       "1        23\n",
       "2        23\n",
       "3        20\n",
       "4        23\n",
       "         ..\n",
       "99995    22\n",
       "99996    22\n",
       "99997    23\n",
       "99998    22\n",
       "99999    22\n",
       "Length: 100000, dtype: int64"
      ]
     },
     "execution_count": 149,
     "metadata": {},
     "output_type": "execute_result"
    }
   ],
   "source": [
    "# how many unique values exist for each row\n",
    "birthdays.nunique(axis=1)"
   ]
  },
  {
   "cell_type": "code",
   "execution_count": 150,
   "id": "8849a8ba-5743-437a-b89e-793213539319",
   "metadata": {
    "tags": []
   },
   "outputs": [
    {
     "data": {
      "text/plain": [
       "0.50791"
      ]
     },
     "execution_count": 150,
     "metadata": {},
     "output_type": "execute_result"
    }
   ],
   "source": [
    "(birthdays.nunique(axis=1) < n_people).mean()"
   ]
  },
  {
   "cell_type": "code",
   "execution_count": 151,
   "id": "82a4a580-e3fd-4a72-951c-519334b05921",
   "metadata": {
    "tags": []
   },
   "outputs": [
    {
     "data": {
      "text/html": [
       "<div>\n",
       "<style scoped>\n",
       "    .dataframe tbody tr th:only-of-type {\n",
       "        vertical-align: middle;\n",
       "    }\n",
       "\n",
       "    .dataframe tbody tr th {\n",
       "        vertical-align: top;\n",
       "    }\n",
       "\n",
       "    .dataframe thead th {\n",
       "        text-align: right;\n",
       "    }\n",
       "</style>\n",
       "<table border=\"1\" class=\"dataframe\">\n",
       "  <thead>\n",
       "    <tr style=\"text-align: right;\">\n",
       "      <th></th>\n",
       "      <th>0</th>\n",
       "      <th>1</th>\n",
       "      <th>2</th>\n",
       "      <th>3</th>\n",
       "      <th>4</th>\n",
       "      <th>5</th>\n",
       "      <th>6</th>\n",
       "      <th>7</th>\n",
       "      <th>8</th>\n",
       "      <th>9</th>\n",
       "      <th>10</th>\n",
       "      <th>11</th>\n",
       "      <th>12</th>\n",
       "      <th>13</th>\n",
       "      <th>14</th>\n",
       "      <th>15</th>\n",
       "      <th>16</th>\n",
       "      <th>17</th>\n",
       "      <th>18</th>\n",
       "      <th>19</th>\n",
       "    </tr>\n",
       "  </thead>\n",
       "  <tbody>\n",
       "    <tr>\n",
       "      <th>0</th>\n",
       "      <td>155</td>\n",
       "      <td>83</td>\n",
       "      <td>263</td>\n",
       "      <td>130</td>\n",
       "      <td>163</td>\n",
       "      <td>347</td>\n",
       "      <td>232</td>\n",
       "      <td>220</td>\n",
       "      <td>138</td>\n",
       "      <td>209</td>\n",
       "      <td>280</td>\n",
       "      <td>2</td>\n",
       "      <td>290</td>\n",
       "      <td>104</td>\n",
       "      <td>352</td>\n",
       "      <td>242</td>\n",
       "      <td>29</td>\n",
       "      <td>156</td>\n",
       "      <td>123</td>\n",
       "      <td>90</td>\n",
       "    </tr>\n",
       "    <tr>\n",
       "      <th>1</th>\n",
       "      <td>266</td>\n",
       "      <td>267</td>\n",
       "      <td>115</td>\n",
       "      <td>193</td>\n",
       "      <td>188</td>\n",
       "      <td>304</td>\n",
       "      <td>300</td>\n",
       "      <td>218</td>\n",
       "      <td>131</td>\n",
       "      <td>185</td>\n",
       "      <td>2</td>\n",
       "      <td>227</td>\n",
       "      <td>59</td>\n",
       "      <td>95</td>\n",
       "      <td>239</td>\n",
       "      <td>246</td>\n",
       "      <td>97</td>\n",
       "      <td>240</td>\n",
       "      <td>63</td>\n",
       "      <td>136</td>\n",
       "    </tr>\n",
       "    <tr>\n",
       "      <th>2</th>\n",
       "      <td>220</td>\n",
       "      <td>356</td>\n",
       "      <td>237</td>\n",
       "      <td>72</td>\n",
       "      <td>103</td>\n",
       "      <td>316</td>\n",
       "      <td>359</td>\n",
       "      <td>337</td>\n",
       "      <td>156</td>\n",
       "      <td>29</td>\n",
       "      <td>346</td>\n",
       "      <td>295</td>\n",
       "      <td>215</td>\n",
       "      <td>218</td>\n",
       "      <td>68</td>\n",
       "      <td>76</td>\n",
       "      <td>46</td>\n",
       "      <td>244</td>\n",
       "      <td>132</td>\n",
       "      <td>108</td>\n",
       "    </tr>\n",
       "    <tr>\n",
       "      <th>3</th>\n",
       "      <td>114</td>\n",
       "      <td>48</td>\n",
       "      <td>356</td>\n",
       "      <td>188</td>\n",
       "      <td>212</td>\n",
       "      <td>80</td>\n",
       "      <td>28</td>\n",
       "      <td>287</td>\n",
       "      <td>318</td>\n",
       "      <td>268</td>\n",
       "      <td>347</td>\n",
       "      <td>140</td>\n",
       "      <td>86</td>\n",
       "      <td>357</td>\n",
       "      <td>132</td>\n",
       "      <td>27</td>\n",
       "      <td>203</td>\n",
       "      <td>226</td>\n",
       "      <td>54</td>\n",
       "      <td>335</td>\n",
       "    </tr>\n",
       "    <tr>\n",
       "      <th>4</th>\n",
       "      <td>150</td>\n",
       "      <td>316</td>\n",
       "      <td>92</td>\n",
       "      <td>129</td>\n",
       "      <td>307</td>\n",
       "      <td>326</td>\n",
       "      <td>171</td>\n",
       "      <td>209</td>\n",
       "      <td>242</td>\n",
       "      <td>271</td>\n",
       "      <td>202</td>\n",
       "      <td>155</td>\n",
       "      <td>184</td>\n",
       "      <td>266</td>\n",
       "      <td>88</td>\n",
       "      <td>192</td>\n",
       "      <td>221</td>\n",
       "      <td>48</td>\n",
       "      <td>99</td>\n",
       "      <td>96</td>\n",
       "    </tr>\n",
       "    <tr>\n",
       "      <th>...</th>\n",
       "      <td>...</td>\n",
       "      <td>...</td>\n",
       "      <td>...</td>\n",
       "      <td>...</td>\n",
       "      <td>...</td>\n",
       "      <td>...</td>\n",
       "      <td>...</td>\n",
       "      <td>...</td>\n",
       "      <td>...</td>\n",
       "      <td>...</td>\n",
       "      <td>...</td>\n",
       "      <td>...</td>\n",
       "      <td>...</td>\n",
       "      <td>...</td>\n",
       "      <td>...</td>\n",
       "      <td>...</td>\n",
       "      <td>...</td>\n",
       "      <td>...</td>\n",
       "      <td>...</td>\n",
       "      <td>...</td>\n",
       "    </tr>\n",
       "    <tr>\n",
       "      <th>99995</th>\n",
       "      <td>259</td>\n",
       "      <td>342</td>\n",
       "      <td>167</td>\n",
       "      <td>89</td>\n",
       "      <td>323</td>\n",
       "      <td>47</td>\n",
       "      <td>364</td>\n",
       "      <td>182</td>\n",
       "      <td>215</td>\n",
       "      <td>246</td>\n",
       "      <td>25</td>\n",
       "      <td>359</td>\n",
       "      <td>321</td>\n",
       "      <td>189</td>\n",
       "      <td>166</td>\n",
       "      <td>316</td>\n",
       "      <td>94</td>\n",
       "      <td>161</td>\n",
       "      <td>252</td>\n",
       "      <td>238</td>\n",
       "    </tr>\n",
       "    <tr>\n",
       "      <th>99996</th>\n",
       "      <td>206</td>\n",
       "      <td>144</td>\n",
       "      <td>52</td>\n",
       "      <td>326</td>\n",
       "      <td>121</td>\n",
       "      <td>338</td>\n",
       "      <td>74</td>\n",
       "      <td>100</td>\n",
       "      <td>312</td>\n",
       "      <td>348</td>\n",
       "      <td>27</td>\n",
       "      <td>49</td>\n",
       "      <td>85</td>\n",
       "      <td>360</td>\n",
       "      <td>304</td>\n",
       "      <td>228</td>\n",
       "      <td>154</td>\n",
       "      <td>307</td>\n",
       "      <td>365</td>\n",
       "      <td>153</td>\n",
       "    </tr>\n",
       "    <tr>\n",
       "      <th>99997</th>\n",
       "      <td>211</td>\n",
       "      <td>83</td>\n",
       "      <td>204</td>\n",
       "      <td>255</td>\n",
       "      <td>112</td>\n",
       "      <td>266</td>\n",
       "      <td>157</td>\n",
       "      <td>248</td>\n",
       "      <td>52</td>\n",
       "      <td>250</td>\n",
       "      <td>297</td>\n",
       "      <td>360</td>\n",
       "      <td>206</td>\n",
       "      <td>360</td>\n",
       "      <td>186</td>\n",
       "      <td>44</td>\n",
       "      <td>90</td>\n",
       "      <td>254</td>\n",
       "      <td>67</td>\n",
       "      <td>21</td>\n",
       "    </tr>\n",
       "    <tr>\n",
       "      <th>99998</th>\n",
       "      <td>22</td>\n",
       "      <td>287</td>\n",
       "      <td>133</td>\n",
       "      <td>251</td>\n",
       "      <td>51</td>\n",
       "      <td>273</td>\n",
       "      <td>101</td>\n",
       "      <td>114</td>\n",
       "      <td>20</td>\n",
       "      <td>285</td>\n",
       "      <td>122</td>\n",
       "      <td>342</td>\n",
       "      <td>248</td>\n",
       "      <td>30</td>\n",
       "      <td>325</td>\n",
       "      <td>298</td>\n",
       "      <td>142</td>\n",
       "      <td>239</td>\n",
       "      <td>164</td>\n",
       "      <td>230</td>\n",
       "    </tr>\n",
       "    <tr>\n",
       "      <th>99999</th>\n",
       "      <td>316</td>\n",
       "      <td>146</td>\n",
       "      <td>47</td>\n",
       "      <td>30</td>\n",
       "      <td>16</td>\n",
       "      <td>189</td>\n",
       "      <td>109</td>\n",
       "      <td>126</td>\n",
       "      <td>289</td>\n",
       "      <td>221</td>\n",
       "      <td>328</td>\n",
       "      <td>46</td>\n",
       "      <td>240</td>\n",
       "      <td>82</td>\n",
       "      <td>197</td>\n",
       "      <td>355</td>\n",
       "      <td>194</td>\n",
       "      <td>199</td>\n",
       "      <td>10</td>\n",
       "      <td>163</td>\n",
       "    </tr>\n",
       "  </tbody>\n",
       "</table>\n",
       "<p>100000 rows × 20 columns</p>\n",
       "</div>"
      ],
      "text/plain": [
       "        0    1    2    3    4    5    6    7    8    9    10   11   12   13  \\\n",
       "0      155   83  263  130  163  347  232  220  138  209  280    2  290  104   \n",
       "1      266  267  115  193  188  304  300  218  131  185    2  227   59   95   \n",
       "2      220  356  237   72  103  316  359  337  156   29  346  295  215  218   \n",
       "3      114   48  356  188  212   80   28  287  318  268  347  140   86  357   \n",
       "4      150  316   92  129  307  326  171  209  242  271  202  155  184  266   \n",
       "...    ...  ...  ...  ...  ...  ...  ...  ...  ...  ...  ...  ...  ...  ...   \n",
       "99995  259  342  167   89  323   47  364  182  215  246   25  359  321  189   \n",
       "99996  206  144   52  326  121  338   74  100  312  348   27   49   85  360   \n",
       "99997  211   83  204  255  112  266  157  248   52  250  297  360  206  360   \n",
       "99998   22  287  133  251   51  273  101  114   20  285  122  342  248   30   \n",
       "99999  316  146   47   30   16  189  109  126  289  221  328   46  240   82   \n",
       "\n",
       "        14   15   16   17   18   19  \n",
       "0      352  242   29  156  123   90  \n",
       "1      239  246   97  240   63  136  \n",
       "2       68   76   46  244  132  108  \n",
       "3      132   27  203  226   54  335  \n",
       "4       88  192  221   48   99   96  \n",
       "...    ...  ...  ...  ...  ...  ...  \n",
       "99995  166  316   94  161  252  238  \n",
       "99996  304  228  154  307  365  153  \n",
       "99997  186   44   90  254   67   21  \n",
       "99998  325  298  142  239  164  230  \n",
       "99999  197  355  194  199   10  163  \n",
       "\n",
       "[100000 rows x 20 columns]"
      ]
     },
     "execution_count": 151,
     "metadata": {},
     "output_type": "execute_result"
    }
   ],
   "source": [
    "# What if it's 20 people?\n",
    "n_people = 20\n",
    "birthdays = np.random.choice(outcomes, (n_simulations, n_people))\n",
    "birthdays = pd.DataFrame(birthdays)\n",
    "birthdays"
   ]
  },
  {
   "cell_type": "code",
   "execution_count": 154,
   "id": "ba8e1edb-8ab5-401a-a0c0-5f5f53ae098b",
   "metadata": {
    "tags": []
   },
   "outputs": [
    {
     "data": {
      "text/plain": [
       "0.41375"
      ]
     },
     "execution_count": 154,
     "metadata": {},
     "output_type": "execute_result"
    }
   ],
   "source": [
    "(birthdays.nunique(axis=1) < n_people).mean()"
   ]
  },
  {
   "cell_type": "code",
   "execution_count": 155,
   "id": "816268b3-f10f-4029-b348-f559dc5c97da",
   "metadata": {
    "tags": []
   },
   "outputs": [
    {
     "data": {
      "text/html": [
       "<div>\n",
       "<style scoped>\n",
       "    .dataframe tbody tr th:only-of-type {\n",
       "        vertical-align: middle;\n",
       "    }\n",
       "\n",
       "    .dataframe tbody tr th {\n",
       "        vertical-align: top;\n",
       "    }\n",
       "\n",
       "    .dataframe thead th {\n",
       "        text-align: right;\n",
       "    }\n",
       "</style>\n",
       "<table border=\"1\" class=\"dataframe\">\n",
       "  <thead>\n",
       "    <tr style=\"text-align: right;\">\n",
       "      <th></th>\n",
       "      <th>0</th>\n",
       "      <th>1</th>\n",
       "      <th>2</th>\n",
       "      <th>3</th>\n",
       "      <th>4</th>\n",
       "      <th>5</th>\n",
       "      <th>6</th>\n",
       "      <th>7</th>\n",
       "      <th>8</th>\n",
       "      <th>9</th>\n",
       "      <th>...</th>\n",
       "      <th>30</th>\n",
       "      <th>31</th>\n",
       "      <th>32</th>\n",
       "      <th>33</th>\n",
       "      <th>34</th>\n",
       "      <th>35</th>\n",
       "      <th>36</th>\n",
       "      <th>37</th>\n",
       "      <th>38</th>\n",
       "      <th>39</th>\n",
       "    </tr>\n",
       "  </thead>\n",
       "  <tbody>\n",
       "    <tr>\n",
       "      <th>0</th>\n",
       "      <td>315</td>\n",
       "      <td>304</td>\n",
       "      <td>227</td>\n",
       "      <td>64</td>\n",
       "      <td>246</td>\n",
       "      <td>302</td>\n",
       "      <td>37</td>\n",
       "      <td>49</td>\n",
       "      <td>204</td>\n",
       "      <td>139</td>\n",
       "      <td>...</td>\n",
       "      <td>74</td>\n",
       "      <td>226</td>\n",
       "      <td>313</td>\n",
       "      <td>240</td>\n",
       "      <td>70</td>\n",
       "      <td>287</td>\n",
       "      <td>292</td>\n",
       "      <td>212</td>\n",
       "      <td>315</td>\n",
       "      <td>274</td>\n",
       "    </tr>\n",
       "    <tr>\n",
       "      <th>1</th>\n",
       "      <td>285</td>\n",
       "      <td>270</td>\n",
       "      <td>198</td>\n",
       "      <td>16</td>\n",
       "      <td>357</td>\n",
       "      <td>322</td>\n",
       "      <td>61</td>\n",
       "      <td>92</td>\n",
       "      <td>205</td>\n",
       "      <td>125</td>\n",
       "      <td>...</td>\n",
       "      <td>228</td>\n",
       "      <td>146</td>\n",
       "      <td>145</td>\n",
       "      <td>83</td>\n",
       "      <td>61</td>\n",
       "      <td>142</td>\n",
       "      <td>260</td>\n",
       "      <td>105</td>\n",
       "      <td>173</td>\n",
       "      <td>116</td>\n",
       "    </tr>\n",
       "    <tr>\n",
       "      <th>2</th>\n",
       "      <td>177</td>\n",
       "      <td>286</td>\n",
       "      <td>176</td>\n",
       "      <td>116</td>\n",
       "      <td>70</td>\n",
       "      <td>86</td>\n",
       "      <td>235</td>\n",
       "      <td>16</td>\n",
       "      <td>261</td>\n",
       "      <td>320</td>\n",
       "      <td>...</td>\n",
       "      <td>264</td>\n",
       "      <td>94</td>\n",
       "      <td>166</td>\n",
       "      <td>98</td>\n",
       "      <td>210</td>\n",
       "      <td>28</td>\n",
       "      <td>362</td>\n",
       "      <td>353</td>\n",
       "      <td>124</td>\n",
       "      <td>39</td>\n",
       "    </tr>\n",
       "    <tr>\n",
       "      <th>3</th>\n",
       "      <td>109</td>\n",
       "      <td>102</td>\n",
       "      <td>94</td>\n",
       "      <td>35</td>\n",
       "      <td>169</td>\n",
       "      <td>205</td>\n",
       "      <td>150</td>\n",
       "      <td>261</td>\n",
       "      <td>245</td>\n",
       "      <td>46</td>\n",
       "      <td>...</td>\n",
       "      <td>212</td>\n",
       "      <td>105</td>\n",
       "      <td>266</td>\n",
       "      <td>96</td>\n",
       "      <td>126</td>\n",
       "      <td>264</td>\n",
       "      <td>32</td>\n",
       "      <td>294</td>\n",
       "      <td>199</td>\n",
       "      <td>318</td>\n",
       "    </tr>\n",
       "    <tr>\n",
       "      <th>4</th>\n",
       "      <td>152</td>\n",
       "      <td>4</td>\n",
       "      <td>101</td>\n",
       "      <td>194</td>\n",
       "      <td>165</td>\n",
       "      <td>248</td>\n",
       "      <td>64</td>\n",
       "      <td>295</td>\n",
       "      <td>135</td>\n",
       "      <td>319</td>\n",
       "      <td>...</td>\n",
       "      <td>308</td>\n",
       "      <td>309</td>\n",
       "      <td>279</td>\n",
       "      <td>42</td>\n",
       "      <td>106</td>\n",
       "      <td>217</td>\n",
       "      <td>347</td>\n",
       "      <td>252</td>\n",
       "      <td>221</td>\n",
       "      <td>221</td>\n",
       "    </tr>\n",
       "    <tr>\n",
       "      <th>...</th>\n",
       "      <td>...</td>\n",
       "      <td>...</td>\n",
       "      <td>...</td>\n",
       "      <td>...</td>\n",
       "      <td>...</td>\n",
       "      <td>...</td>\n",
       "      <td>...</td>\n",
       "      <td>...</td>\n",
       "      <td>...</td>\n",
       "      <td>...</td>\n",
       "      <td>...</td>\n",
       "      <td>...</td>\n",
       "      <td>...</td>\n",
       "      <td>...</td>\n",
       "      <td>...</td>\n",
       "      <td>...</td>\n",
       "      <td>...</td>\n",
       "      <td>...</td>\n",
       "      <td>...</td>\n",
       "      <td>...</td>\n",
       "      <td>...</td>\n",
       "    </tr>\n",
       "    <tr>\n",
       "      <th>99995</th>\n",
       "      <td>232</td>\n",
       "      <td>303</td>\n",
       "      <td>163</td>\n",
       "      <td>12</td>\n",
       "      <td>281</td>\n",
       "      <td>80</td>\n",
       "      <td>80</td>\n",
       "      <td>179</td>\n",
       "      <td>79</td>\n",
       "      <td>234</td>\n",
       "      <td>...</td>\n",
       "      <td>123</td>\n",
       "      <td>39</td>\n",
       "      <td>289</td>\n",
       "      <td>245</td>\n",
       "      <td>224</td>\n",
       "      <td>295</td>\n",
       "      <td>63</td>\n",
       "      <td>289</td>\n",
       "      <td>54</td>\n",
       "      <td>102</td>\n",
       "    </tr>\n",
       "    <tr>\n",
       "      <th>99996</th>\n",
       "      <td>327</td>\n",
       "      <td>212</td>\n",
       "      <td>103</td>\n",
       "      <td>61</td>\n",
       "      <td>105</td>\n",
       "      <td>351</td>\n",
       "      <td>175</td>\n",
       "      <td>293</td>\n",
       "      <td>147</td>\n",
       "      <td>213</td>\n",
       "      <td>...</td>\n",
       "      <td>224</td>\n",
       "      <td>347</td>\n",
       "      <td>4</td>\n",
       "      <td>23</td>\n",
       "      <td>290</td>\n",
       "      <td>359</td>\n",
       "      <td>156</td>\n",
       "      <td>226</td>\n",
       "      <td>163</td>\n",
       "      <td>103</td>\n",
       "    </tr>\n",
       "    <tr>\n",
       "      <th>99997</th>\n",
       "      <td>292</td>\n",
       "      <td>94</td>\n",
       "      <td>305</td>\n",
       "      <td>279</td>\n",
       "      <td>108</td>\n",
       "      <td>114</td>\n",
       "      <td>185</td>\n",
       "      <td>353</td>\n",
       "      <td>181</td>\n",
       "      <td>316</td>\n",
       "      <td>...</td>\n",
       "      <td>102</td>\n",
       "      <td>247</td>\n",
       "      <td>139</td>\n",
       "      <td>13</td>\n",
       "      <td>187</td>\n",
       "      <td>57</td>\n",
       "      <td>40</td>\n",
       "      <td>156</td>\n",
       "      <td>328</td>\n",
       "      <td>352</td>\n",
       "    </tr>\n",
       "    <tr>\n",
       "      <th>99998</th>\n",
       "      <td>203</td>\n",
       "      <td>150</td>\n",
       "      <td>79</td>\n",
       "      <td>171</td>\n",
       "      <td>191</td>\n",
       "      <td>348</td>\n",
       "      <td>252</td>\n",
       "      <td>83</td>\n",
       "      <td>136</td>\n",
       "      <td>12</td>\n",
       "      <td>...</td>\n",
       "      <td>293</td>\n",
       "      <td>311</td>\n",
       "      <td>7</td>\n",
       "      <td>224</td>\n",
       "      <td>158</td>\n",
       "      <td>209</td>\n",
       "      <td>20</td>\n",
       "      <td>229</td>\n",
       "      <td>70</td>\n",
       "      <td>140</td>\n",
       "    </tr>\n",
       "    <tr>\n",
       "      <th>99999</th>\n",
       "      <td>176</td>\n",
       "      <td>133</td>\n",
       "      <td>213</td>\n",
       "      <td>341</td>\n",
       "      <td>246</td>\n",
       "      <td>187</td>\n",
       "      <td>327</td>\n",
       "      <td>152</td>\n",
       "      <td>141</td>\n",
       "      <td>355</td>\n",
       "      <td>...</td>\n",
       "      <td>26</td>\n",
       "      <td>316</td>\n",
       "      <td>183</td>\n",
       "      <td>77</td>\n",
       "      <td>71</td>\n",
       "      <td>250</td>\n",
       "      <td>341</td>\n",
       "      <td>6</td>\n",
       "      <td>151</td>\n",
       "      <td>290</td>\n",
       "    </tr>\n",
       "  </tbody>\n",
       "</table>\n",
       "<p>100000 rows × 40 columns</p>\n",
       "</div>"
      ],
      "text/plain": [
       "        0    1    2    3    4    5    6    7    8    9   ...   30   31   32  \\\n",
       "0      315  304  227   64  246  302   37   49  204  139  ...   74  226  313   \n",
       "1      285  270  198   16  357  322   61   92  205  125  ...  228  146  145   \n",
       "2      177  286  176  116   70   86  235   16  261  320  ...  264   94  166   \n",
       "3      109  102   94   35  169  205  150  261  245   46  ...  212  105  266   \n",
       "4      152    4  101  194  165  248   64  295  135  319  ...  308  309  279   \n",
       "...    ...  ...  ...  ...  ...  ...  ...  ...  ...  ...  ...  ...  ...  ...   \n",
       "99995  232  303  163   12  281   80   80  179   79  234  ...  123   39  289   \n",
       "99996  327  212  103   61  105  351  175  293  147  213  ...  224  347    4   \n",
       "99997  292   94  305  279  108  114  185  353  181  316  ...  102  247  139   \n",
       "99998  203  150   79  171  191  348  252   83  136   12  ...  293  311    7   \n",
       "99999  176  133  213  341  246  187  327  152  141  355  ...   26  316  183   \n",
       "\n",
       "        33   34   35   36   37   38   39  \n",
       "0      240   70  287  292  212  315  274  \n",
       "1       83   61  142  260  105  173  116  \n",
       "2       98  210   28  362  353  124   39  \n",
       "3       96  126  264   32  294  199  318  \n",
       "4       42  106  217  347  252  221  221  \n",
       "...    ...  ...  ...  ...  ...  ...  ...  \n",
       "99995  245  224  295   63  289   54  102  \n",
       "99996   23  290  359  156  226  163  103  \n",
       "99997   13  187   57   40  156  328  352  \n",
       "99998  224  158  209   20  229   70  140  \n",
       "99999   77   71  250  341    6  151  290  \n",
       "\n",
       "[100000 rows x 40 columns]"
      ]
     },
     "execution_count": 155,
     "metadata": {},
     "output_type": "execute_result"
    }
   ],
   "source": [
    "# What if it's 40 people?\n",
    "n_people = 40\n",
    "birthdays = np.random.choice(outcomes, (n_simulations, n_people))\n",
    "birthdays = pd.DataFrame(birthdays)\n",
    "birthdays"
   ]
  },
  {
   "cell_type": "code",
   "execution_count": 158,
   "id": "84b9d211-a4a5-40bf-a2be-00e49f865824",
   "metadata": {
    "tags": []
   },
   "outputs": [
    {
     "data": {
      "text/plain": [
       "0.89127"
      ]
     },
     "execution_count": 158,
     "metadata": {},
     "output_type": "execute_result"
    }
   ],
   "source": [
    "(birthdays.nunique(axis=1) < n_people).mean()"
   ]
  }
 ],
 "metadata": {
  "kernelspec": {
   "display_name": "Python 3 (ipykernel)",
   "language": "python",
   "name": "python3"
  },
  "language_info": {
   "codemirror_mode": {
    "name": "ipython",
    "version": 3
   },
   "file_extension": ".py",
   "mimetype": "text/x-python",
   "name": "python",
   "nbconvert_exporter": "python",
   "pygments_lexer": "ipython3",
   "version": "3.11.5"
  }
 },
 "nbformat": 4,
 "nbformat_minor": 5
}
