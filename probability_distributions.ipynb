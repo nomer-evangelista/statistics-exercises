{
 "cells": [
  {
   "cell_type": "code",
   "execution_count": 1,
   "id": "4b6ed982",
   "metadata": {
    "tags": []
   },
   "outputs": [],
   "source": [
    "import matplotlib.pyplot as plt\n",
    "# numpy for vectorized array operations\n",
    "import numpy as np\n",
    "# pandas for proper tabular manipulation\n",
    "import pandas as pd\n",
    "# scipy stats for our subversions\n",
    "from scipy import stats"
   ]
  },
  {
   "cell_type": "code",
   "execution_count": 3,
   "id": "2d67a08d",
   "metadata": {},
   "outputs": [],
   "source": [
    "# 1. A bank found that the average number of cars waiting during the noon hour at a \n",
    "# drive-up window follows a Poisson distribution with a mean of 2 cars. \n",
    "# Make a chart of this distribution and answer these questions \n",
    "# concerning the probability of cars waiting at the drive-up window.\n",
    "\n",
    "# What is the probability that no cars drive up in the noon hour?\n",
    "# What is the probability that 3 or more cars come through the drive through?\n",
    "# How likely is it that the drive through gets at least 1 car?\n",
    "λ = 2\n",
    "cars_dist = stats.poisson(λ)"
   ]
  },
  {
   "cell_type": "code",
   "execution_count": 7,
   "id": "8566d1ad",
   "metadata": {},
   "outputs": [
    {
     "data": {
      "image/png": "[encoded data removed]",
      "text/plain": [
       "<Figure size 640x480 with 1 Axes>"
      ]
     },
     "metadata": {},
     "output_type": "display_data"
    }
   ],
   "source": [
    "x = range(20)\n",
    "y = [cars_dist.pmf(x) for x in x]\n",
    "plt.bar(x, y)\n",
    "plt.title('Poisson Distribution of no cars in lunch hour window')\n",
    "plt.show()"
   ]
  },
  {
   "cell_type": "code",
   "execution_count": 9,
   "id": "80ca3ddb",
   "metadata": {},
   "outputs": [
    {
     "data": {
      "text/plain": [
       "0.1353352832366127"
      ]
     },
     "execution_count": 9,
     "metadata": {},
     "output_type": "execute_result"
    }
   ],
   "source": [
    "# What is the probability that no cars drive up in the noon hour?\n",
    "cars_dist.pmf(0)"
   ]
  },
  {
   "cell_type": "code",
   "execution_count": 11,
   "id": "3d234741",
   "metadata": {},
   "outputs": [
    {
     "data": {
      "text/plain": [
       "0.32332358381693654"
      ]
     },
     "execution_count": 11,
     "metadata": {},
     "output_type": "execute_result"
    }
   ],
   "source": [
    "# What is the probability that 3 or more cars come through the drive through?\n",
    "cars_dist.sf(2)"
   ]
  },
  {
   "cell_type": "code",
   "execution_count": null,
   "id": "dbcd6c9c",
   "metadata": {},
   "outputs": [],
   "source": [
    "# How likely is it that the drive through gets at least 1 car?"
   ]
  },
  {
   "cell_type": "code",
   "execution_count": 10,
   "id": "27baba26",
   "metadata": {},
   "outputs": [
    {
     "data": {
      "text/plain": [
       "0.1353352832366127"
      ]
     },
     "execution_count": 10,
     "metadata": {},
     "output_type": "execute_result"
    }
   ],
   "source": [
    "1 - cars_dist.sf(0)"
   ]
  },
  {
   "cell_type": "code",
   "execution_count": null,
   "id": "dcfb0ca0",
   "metadata": {},
   "outputs": [],
   "source": [
    "# 2. Grades of State University graduates are normally distributed with a mean of 3.0 \n",
    "# and a standard deviation of .3. Calculate the following:\n",
    "\n",
    "# What grade point average is required to be in the top 5% of the graduating class?\n",
    "# What GPA constitutes the bottom 15% of the class?\n",
    "# An eccentric alumnus left scholarship money for students in the third decile from the \n",
    "# bottom of their class. Determine the range of the third decile. Would a student \n",
    "# with a 2.8 grade point average qualify for this scholarship?\n",
    "# If I have a GPA of 3.5, what percentile am I in?"
   ]
  },
  {
   "cell_type": "code",
   "execution_count": 16,
   "id": "69e58979",
   "metadata": {},
   "outputs": [],
   "source": [
    "μ = 3\n",
    "σ = .3\n",
    "grades_dist = stats.norm(μ, σ)"
   ]
  },
  {
   "cell_type": "code",
   "execution_count": 19,
   "id": "b5ab7bcd",
   "metadata": {},
   "outputs": [
    {
     "data": {
      "text/plain": [
       "3.49"
      ]
     },
     "execution_count": 19,
     "metadata": {},
     "output_type": "execute_result"
    }
   ],
   "source": [
    "# What grade point average is required to be in the top 5% of the graduating class?\n",
    "round(grades_dist.isf(0.05), 2)"
   ]
  },
  {
   "cell_type": "code",
   "execution_count": 22,
   "id": "c80ac63b",
   "metadata": {},
   "outputs": [
    {
     "data": {
      "text/plain": [
       "2.69"
      ]
     },
     "execution_count": 22,
     "metadata": {},
     "output_type": "execute_result"
    }
   ],
   "source": [
    "# What GPA constitutes the bottom 15% of the class?\n",
    "round(grades_dist.ppf(.15), 2)"
   ]
  },
  {
   "cell_type": "code",
   "execution_count": 25,
   "id": "ea679fad",
   "metadata": {},
   "outputs": [
    {
     "data": {
      "text/plain": [
       "2.7475136299281258"
      ]
     },
     "execution_count": 25,
     "metadata": {},
     "output_type": "execute_result"
    }
   ],
   "source": [
    "# 1st decile: 0-10 percentile\n",
    "# 2nd decile: 10-20 percentile\n",
    "# 3rd decile: 20-30 percentile\n",
    "first_decile = grades_dist.ppf(.2)\n",
    "first_decile"
   ]
  },
  {
   "cell_type": "code",
   "execution_count": 28,
   "id": "ec5b5709",
   "metadata": {},
   "outputs": [
    {
     "data": {
      "text/plain": [
       "2.842679846187588"
      ]
     },
     "execution_count": 28,
     "metadata": {},
     "output_type": "execute_result"
    }
   ],
   "source": [
    "second_decile = grades_dist.ppf(0.3)\n",
    "second_decile"
   ]
  },
  {
   "cell_type": "code",
   "execution_count": 29,
   "id": "57122615",
   "metadata": {},
   "outputs": [],
   "source": [
    "low_gpa, high_gpa = grades_dist.ppf([0.2, 0.3])"
   ]
  },
  {
   "cell_type": "code",
   "execution_count": 31,
   "id": "2eea1e0e",
   "metadata": {},
   "outputs": [
    {
     "data": {
      "text/plain": [
       "(2.7475136299281258, 2.842679846187588)"
      ]
     },
     "execution_count": 31,
     "metadata": {},
     "output_type": "execute_result"
    }
   ],
   "source": [
    "low_gpa, high_gpa"
   ]
  },
  {
   "cell_type": "code",
   "execution_count": 32,
   "id": "ccd39b3a",
   "metadata": {},
   "outputs": [
    {
     "data": {
      "text/plain": [
       "True"
      ]
     },
     "execution_count": 32,
     "metadata": {},
     "output_type": "execute_result"
    }
   ],
   "source": [
    "qualify_gpa = 2.8\n",
    "low_gpa < qualify_gpa < high_gpa"
   ]
  },
  {
   "cell_type": "code",
   "execution_count": 34,
   "id": "c779cd30",
   "metadata": {},
   "outputs": [
    {
     "data": {
      "text/plain": [
       "0.05"
      ]
     },
     "execution_count": 34,
     "metadata": {},
     "output_type": "execute_result"
    }
   ],
   "source": [
    "# If I have a GPA of 3.5, what percentile am I in?\n",
    "# top 95%\n",
    "round(grades_dist.sf(3.5), 2)"
   ]
  },
  {
   "cell_type": "code",
   "execution_count": 3,
   "id": "7702d9d2",
   "metadata": {},
   "outputs": [
    {
     "data": {
      "text/plain": [
       "0.14"
      ]
     },
     "execution_count": 3,
     "metadata": {},
     "output_type": "execute_result"
    }
   ],
   "source": [
    "# 3. A marketing website has an average click-through rate of 2%. \n",
    "# One day they observe 4326 visitors and 97 click-throughs. \n",
    "# How likely is it that this many people or more click through?\n",
    "click_dist = stats.binom(4326, 0.02)\n",
    "round(click_dist.sf(96), 2)"
   ]
  },
  {
   "cell_type": "code",
   "execution_count": 5,
   "id": "cd914633",
   "metadata": {},
   "outputs": [
    {
     "data": {
      "text/plain": [
       "0.45"
      ]
     },
     "execution_count": 5,
     "metadata": {},
     "output_type": "execute_result"
    }
   ],
   "source": [
    "# 4. You are working on some statistics homework consisting of 100 questions where all of the answers \n",
    "# are a probability rounded to the hundreths place. Looking to save time, you put down random \n",
    "# probabilities as the answer to each question.\n",
    "\n",
    "# What is the probability that at least one of your first 60 answers is correct?\n",
    "problem_success = 1 / 100\n",
    "number_trials = 60\n",
    "homework_dist = stats.binom(number_trials, problem_success)\n",
    "round(homework_dist.sf(0), 2)"
   ]
  },
  {
   "cell_type": "code",
   "execution_count": 10,
   "id": "f3898711",
   "metadata": {},
   "outputs": [],
   "source": [
    "# 5. The codeup staff tends to get upset when the student break area is not cleaned up. \n",
    "# Suppose that there's a 3% chance that any one student cleans the break area when they visit it, \n",
    "# and, on any given day, about 90% of the 3 active cohorts of 22 students visit the break area. \n",
    "# How likely is it that the break area gets cleaned up each day? How likely is it that it goes two \n",
    "# days without getting cleaned up? All week?\n",
    "problem_success = 0.03\n",
    "number_trials = int(0.9 * 3 * 22)"
   ]
  },
  {
   "cell_type": "code",
   "execution_count": 11,
   "id": "a1099399",
   "metadata": {},
   "outputs": [],
   "source": [
    "cleaning_dist = stats.binom(number_trials, problem_success)"
   ]
  },
  {
   "cell_type": "code",
   "execution_count": 13,
   "id": "292b8e5c",
   "metadata": {},
   "outputs": [
    {
     "data": {
      "text/plain": [
       "0.83"
      ]
     },
     "execution_count": 13,
     "metadata": {},
     "output_type": "execute_result"
    }
   ],
   "source": [
    "round(cleaning_dist.sf(0), 2)"
   ]
  },
  {
   "cell_type": "code",
   "execution_count": 16,
   "id": "2438fb0e",
   "metadata": {},
   "outputs": [
    {
     "data": {
      "text/plain": [
       "0.026658541032798935"
      ]
     },
     "execution_count": 16,
     "metadata": {},
     "output_type": "execute_result"
    }
   ],
   "source": [
    "stats.binom(((number_trials * 2) + 1), problem_success).pmf(0)"
   ]
  },
  {
   "cell_type": "code",
   "execution_count": 23,
   "id": "c34782ad",
   "metadata": {},
   "outputs": [],
   "source": [
    "number_trials = round((0.9 * 3 * 22) * 5, 0)"
   ]
  },
  {
   "cell_type": "code",
   "execution_count": 26,
   "id": "63a87546",
   "metadata": {},
   "outputs": [],
   "source": [
    "cleaning_dist = stats.binom(number_trials, problem_success)"
   ]
  },
  {
   "cell_type": "code",
   "execution_count": 27,
   "id": "ca14d74c",
   "metadata": {},
   "outputs": [
    {
     "data": {
      "text/plain": [
       "0.00011781621791054943"
      ]
     },
     "execution_count": 27,
     "metadata": {},
     "output_type": "execute_result"
    }
   ],
   "source": [
    "cleaning_dist.pmf(0)"
   ]
  },
  {
   "cell_type": "code",
   "execution_count": 46,
   "id": "a04abc60",
   "metadata": {},
   "outputs": [],
   "source": [
    "# 6. You want to get lunch at La Panaderia, but notice that the line is usually very long at lunchtime. \n",
    "# After several weeks of careful observation, you notice that the average number of people in line when \n",
    "# your lunch break starts is normally distributed with a mean of 15 and standard deviation of 3. \n",
    "# If it takes 2 minutes for each person to order, and 10 minutes from ordering to getting your food, \n",
    "# what is the likelihood that you have at least 15 minutes left to eat your food before you have to \n",
    "# go back to class? Assume you have one hour for lunch, and ignore travel time to and from La Panaderia.\n"
   ]
  },
  {
   "cell_type": "code",
   "execution_count": 91,
   "id": "a270cf07",
   "metadata": {},
   "outputs": [],
   "source": [
    "μ = 15 * 2\n",
    "σ = 3 * 2 "
   ]
  },
  {
   "cell_type": "code",
   "execution_count": 92,
   "id": "bf7858e9",
   "metadata": {},
   "outputs": [],
   "source": [
    "line_dist = stats.norm(μ, σ)"
   ]
  },
  {
   "cell_type": "code",
   "execution_count": 89,
   "id": "38d3107b",
   "metadata": {},
   "outputs": [
    {
     "data": {
      "text/plain": [
       "33"
      ]
     },
     "execution_count": 89,
     "metadata": {},
     "output_type": "execute_result"
    }
   ],
   "source": [
    "60 - (15 + 10 + 2)"
   ]
  },
  {
   "cell_type": "code",
   "execution_count": 94,
   "id": "bbe9b6c9",
   "metadata": {},
   "outputs": [
    {
     "data": {
      "text/plain": [
       "0.69"
      ]
     },
     "execution_count": 94,
     "metadata": {},
     "output_type": "execute_result"
    }
   ],
   "source": [
    "round(line_dist.cdf(33), 2)"
   ]
  },
  {
   "cell_type": "code",
   "execution_count": 88,
   "id": "6b0a9009",
   "metadata": {},
   "outputs": [],
   "source": [
    "# 7. Connect to the employees database and find the average salary of current employees, along with the \n",
    "# standard deviation. For the following questions, calculate the answer based on modeling the employees \n",
    "# salaries with a normal distribution defined by the calculated mean and standard deviation then compare \n",
    "# this answer to the actual values present in the salaries dataset.\n",
    "\n",
    "# What percent of employees earn less than 60,000?\n",
    "# What percent of employees earn more than 95,000?\n",
    "# What percent of employees earn between 65,000 and 80,000?\n",
    "# What do the top 5% of employees make?\n",
    "import env"
   ]
  },
  {
   "cell_type": "code",
   "execution_count": 47,
   "id": "35ccfeb5",
   "metadata": {},
   "outputs": [],
   "source": [
    "def get_db_url(user, password, host, database):\n",
    "    return f'mysql+pymysql://{user}:{password}@{host}/{database}'"
   ]
  },
  {
   "cell_type": "code",
   "execution_count": 56,
   "id": "c894981f",
   "metadata": {},
   "outputs": [],
   "source": [
    "new_url = get_db_url(env.user, env.password, env.host, 'employees')"
   ]
  },
  {
   "cell_type": "code",
   "execution_count": 57,
   "id": "850341b8",
   "metadata": {},
   "outputs": [],
   "source": [
    "query = '''\n",
    "            SELECT * FROM salaries WHERE to_date > NOW()\n",
    "        '''"
   ]
  },
  {
   "cell_type": "code",
   "execution_count": 58,
   "id": "11dbf16a",
   "metadata": {},
   "outputs": [],
   "source": [
    "df = pd.read_sql(query, new_url)"
   ]
  },
  {
   "cell_type": "code",
   "execution_count": 59,
   "id": "1f6c427e",
   "metadata": {},
   "outputs": [
    {
     "data": {
      "text/html": [
       "<div>\n",
       "<style scoped>\n",
       "    .dataframe tbody tr th:only-of-type {\n",
       "        vertical-align: middle;\n",
       "    }\n",
       "\n",
       "    .dataframe tbody tr th {\n",
       "        vertical-align: top;\n",
       "    }\n",
       "\n",
       "    .dataframe thead th {\n",
       "        text-align: right;\n",
       "    }\n",
       "</style>\n",
       "<table border=\"1\" class=\"dataframe\">\n",
       "  <thead>\n",
       "    <tr style=\"text-align: right;\">\n",
       "      <th></th>\n",
       "      <th>emp_no</th>\n",
       "      <th>salary</th>\n",
       "      <th>from_date</th>\n",
       "      <th>to_date</th>\n",
       "    </tr>\n",
       "  </thead>\n",
       "  <tbody>\n",
       "    <tr>\n",
       "      <th>0</th>\n",
       "      <td>10001</td>\n",
       "      <td>88958</td>\n",
       "      <td>2002-06-22</td>\n",
       "      <td>9999-01-01</td>\n",
       "    </tr>\n",
       "    <tr>\n",
       "      <th>1</th>\n",
       "      <td>10002</td>\n",
       "      <td>72527</td>\n",
       "      <td>2001-08-02</td>\n",
       "      <td>9999-01-01</td>\n",
       "    </tr>\n",
       "    <tr>\n",
       "      <th>2</th>\n",
       "      <td>10003</td>\n",
       "      <td>43311</td>\n",
       "      <td>2001-12-01</td>\n",
       "      <td>9999-01-01</td>\n",
       "    </tr>\n",
       "    <tr>\n",
       "      <th>3</th>\n",
       "      <td>10004</td>\n",
       "      <td>74057</td>\n",
       "      <td>2001-11-27</td>\n",
       "      <td>9999-01-01</td>\n",
       "    </tr>\n",
       "    <tr>\n",
       "      <th>4</th>\n",
       "      <td>10005</td>\n",
       "      <td>94692</td>\n",
       "      <td>2001-09-09</td>\n",
       "      <td>9999-01-01</td>\n",
       "    </tr>\n",
       "    <tr>\n",
       "      <th>...</th>\n",
       "      <td>...</td>\n",
       "      <td>...</td>\n",
       "      <td>...</td>\n",
       "      <td>...</td>\n",
       "    </tr>\n",
       "    <tr>\n",
       "      <th>240119</th>\n",
       "      <td>499995</td>\n",
       "      <td>52868</td>\n",
       "      <td>2002-06-01</td>\n",
       "      <td>9999-01-01</td>\n",
       "    </tr>\n",
       "    <tr>\n",
       "      <th>240120</th>\n",
       "      <td>499996</td>\n",
       "      <td>69501</td>\n",
       "      <td>2002-05-12</td>\n",
       "      <td>9999-01-01</td>\n",
       "    </tr>\n",
       "    <tr>\n",
       "      <th>240121</th>\n",
       "      <td>499997</td>\n",
       "      <td>83441</td>\n",
       "      <td>2001-08-26</td>\n",
       "      <td>9999-01-01</td>\n",
       "    </tr>\n",
       "    <tr>\n",
       "      <th>240122</th>\n",
       "      <td>499998</td>\n",
       "      <td>55003</td>\n",
       "      <td>2001-12-25</td>\n",
       "      <td>9999-01-01</td>\n",
       "    </tr>\n",
       "    <tr>\n",
       "      <th>240123</th>\n",
       "      <td>499999</td>\n",
       "      <td>77303</td>\n",
       "      <td>2001-11-29</td>\n",
       "      <td>9999-01-01</td>\n",
       "    </tr>\n",
       "  </tbody>\n",
       "</table>\n",
       "<p>240124 rows × 4 columns</p>\n",
       "</div>"
      ],
      "text/plain": [
       "        emp_no  salary   from_date     to_date\n",
       "0        10001   88958  2002-06-22  9999-01-01\n",
       "1        10002   72527  2001-08-02  9999-01-01\n",
       "2        10003   43311  2001-12-01  9999-01-01\n",
       "3        10004   74057  2001-11-27  9999-01-01\n",
       "4        10005   94692  2001-09-09  9999-01-01\n",
       "...        ...     ...         ...         ...\n",
       "240119  499995   52868  2002-06-01  9999-01-01\n",
       "240120  499996   69501  2002-05-12  9999-01-01\n",
       "240121  499997   83441  2001-08-26  9999-01-01\n",
       "240122  499998   55003  2001-12-25  9999-01-01\n",
       "240123  499999   77303  2001-11-29  9999-01-01\n",
       "\n",
       "[240124 rows x 4 columns]"
      ]
     },
     "execution_count": 59,
     "metadata": {},
     "output_type": "execute_result"
    }
   ],
   "source": [
    "df"
   ]
  },
  {
   "cell_type": "code",
   "execution_count": 68,
   "id": "c6caba4b",
   "metadata": {},
   "outputs": [],
   "source": [
    "# What percent of employees earn less than 60,000?\n",
    "employee_salaries = df.salary.agg(['mean', 'std'])"
   ]
  },
  {
   "cell_type": "code",
   "execution_count": 71,
   "id": "82cf0cac",
   "metadata": {},
   "outputs": [
    {
     "data": {
      "text/plain": [
       "mean    72012.235857\n",
       "std     17309.995380\n",
       "Name: salary, dtype: float64"
      ]
     },
     "execution_count": 71,
     "metadata": {},
     "output_type": "execute_result"
    }
   ],
   "source": [
    "employee_salaries"
   ]
  },
  {
   "cell_type": "code",
   "execution_count": 72,
   "id": "41b8ad41",
   "metadata": {},
   "outputs": [],
   "source": [
    "salary_dist = stats.norm(*employee_salaries)"
   ]
  },
  {
   "cell_type": "code",
   "execution_count": 75,
   "id": "38d3a3f5",
   "metadata": {},
   "outputs": [
    {
     "data": {
      "text/plain": [
       "0.24"
      ]
     },
     "execution_count": 75,
     "metadata": {},
     "output_type": "execute_result"
    }
   ],
   "source": [
    "round(salary_dist.cdf(60_000), 2)"
   ]
  },
  {
   "cell_type": "code",
   "execution_count": 78,
   "id": "425982ec",
   "metadata": {},
   "outputs": [
    {
     "data": {
      "text/plain": [
       "0.09"
      ]
     },
     "execution_count": 78,
     "metadata": {},
     "output_type": "execute_result"
    }
   ],
   "source": [
    "# What percent of employees earn more than 95,000?\n",
    "round(salary_dist.sf(95_000), 2)"
   ]
  },
  {
   "cell_type": "code",
   "execution_count": 81,
   "id": "2bc86f8b",
   "metadata": {},
   "outputs": [
    {
     "data": {
      "text/plain": [
       "0.677763490495318"
      ]
     },
     "execution_count": 81,
     "metadata": {},
     "output_type": "execute_result"
    }
   ],
   "source": [
    "# What percent of employees earn between 65,000 and 80,000?\n",
    "high_salary, low_salary = salary_dist.cdf([80_000, 65_000])\n",
    "high_salary"
   ]
  },
  {
   "cell_type": "code",
   "execution_count": 82,
   "id": "9419db02",
   "metadata": {},
   "outputs": [
    {
     "data": {
      "text/plain": [
       "0.3427029219506515"
      ]
     },
     "execution_count": 82,
     "metadata": {},
     "output_type": "execute_result"
    }
   ],
   "source": [
    "low_salary"
   ]
  },
  {
   "cell_type": "code",
   "execution_count": 85,
   "id": "0c23accd",
   "metadata": {},
   "outputs": [
    {
     "data": {
      "text/plain": [
       "0.34"
      ]
     },
     "execution_count": 85,
     "metadata": {},
     "output_type": "execute_result"
    }
   ],
   "source": [
    "salary_between_80_65 = high_salary - low_salary\n",
    "round(salary_between_80_65, 2)"
   ]
  },
  {
   "cell_type": "code",
   "execution_count": 86,
   "id": "bbb261f2",
   "metadata": {},
   "outputs": [
    {
     "data": {
      "text/plain": [
       "100484.64454102777"
      ]
     },
     "execution_count": 86,
     "metadata": {},
     "output_type": "execute_result"
    }
   ],
   "source": [
    "# What do the top 5% of employees make?\n",
    "salary_dist.isf(0.05)"
   ]
  },
  {
   "cell_type": "code",
   "execution_count": 87,
   "id": "28fe576e",
   "metadata": {},
   "outputs": [
    {
     "data": {
      "text/plain": [
       "100484.64454102775"
      ]
     },
     "execution_count": 87,
     "metadata": {},
     "output_type": "execute_result"
    }
   ],
   "source": [
    "salary_dist.ppf(0.95)"
   ]
  }
 ],
 "metadata": {
  "kernelspec": {
   "display_name": "Python 3 (ipykernel)",
   "language": "python",
   "name": "python3"
  },
  "language_info": {
   "codemirror_mode": {
    "name": "ipython",
    "version": 3
   },
   "file_extension": ".py",
   "mimetype": "text/x-python",
   "name": "python",
   "nbconvert_exporter": "python",
   "pygments_lexer": "ipython3",
   "version": "3.11.5"
  }
 },
 "nbformat": 4,
 "nbformat_minor": 5
}
